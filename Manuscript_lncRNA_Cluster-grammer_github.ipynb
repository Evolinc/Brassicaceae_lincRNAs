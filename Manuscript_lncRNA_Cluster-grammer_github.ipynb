{
 "cells": [
  {
   "cell_type": "markdown",
   "metadata": {},
   "source": [
    "# LncRNA and gene expression levels profile by Clustergrammer\n",
    "This notebook uses Clustergrammer2 to visualize the expression data (data obtained from the [lincRNA project](https://github.com/Evolinc/Brassicaceae_lincRNAs/tree/main/Expression_data)). The Brassicacea lncRNAs project measured transcriptome sequencing data from a variety of Brassicacea species from different tissues under certain treatments. "
   ]
  },
  {
   "cell_type": "code",
   "execution_count": null,
   "metadata": {
    "scrolled": false
   },
   "outputs": [],
   "source": [
    "from clustergrammer2 import Network, CGM2\n",
    "import pandas as pd"
   ]
  },
  {
   "cell_type": "code",
   "execution_count": null,
   "metadata": {},
   "outputs": [],
   "source": [
    "df = {}\n",
    "df['expression'] = pd.read_csv('Expression_datao/Brassica_HEAT_leaf_data.csv', index_col=0)\n",
    "df['meta_data'] = pd.read_csv('Meta_table/Brassica_HEAT_treatment_leaf_metatable.csv', index_col=0)\n",
    "print(df['expression'].shape, df['meta_data'].shape)"
   ]
  },
  {
   "cell_type": "code",
   "execution_count": null,
   "metadata": {
    "scrolled": true
   },
   "outputs": [],
   "source": [
    "df['expression'].head(10)"
   ]
  },
  {
   "cell_type": "code",
   "execution_count": null,
   "metadata": {
    "scrolled": true
   },
   "outputs": [],
   "source": [
    "df['meta_data'].head(10)"
   ]
  },
  {
   "cell_type": "markdown",
   "metadata": {},
   "source": [
    "## Define the numbers of genes (lncRNAs) to be visulized"
   ]
  },
  {
   "cell_type": "code",
   "execution_count": null,
   "metadata": {},
   "outputs": [],
   "source": [
    "num_rows = 1000"
   ]
  },
  {
   "cell_type": "markdown",
   "metadata": {},
   "source": [
    "## Define the color for widget and expression values"
   ]
  },
  {
   "cell_type": "code",
   "execution_count": null,
   "metadata": {},
   "outputs": [],
   "source": [
    "df_colors = pd.DataFrame()\n",
    "df_colors.loc['left', 'color'] = 'blue'\n",
    "df_colors.loc['right', 'color'] = 'red'"
   ]
  },
  {
   "cell_type": "code",
   "execution_count": null,
   "metadata": {},
   "outputs": [],
   "source": [
    "col_cats = df['meta_data'].columns"
   ]
  },
  {
   "cell_type": "markdown",
   "metadata": {},
   "source": [
    "# Visulize the gene (lncRNAs) Expression Data based on TPM"
   ]
  },
  {
   "cell_type": "code",
   "execution_count": null,
   "metadata": {
    "scrolled": false
   },
   "outputs": [],
   "source": [
    "n1 = Network(CGM2)\n",
    "n1.load_df(df['expression'], meta_col=df['meta_data'], col_cats=col_cats)\n",
    "n1.set_global_cat_colors(df_colors)\n",
    "n1.filter_N_top(axis='row', N_top=num_rows, rank_type='var')\n",
    "# n1.normalize(axis='row', norm_type='zscore', z_clip=5)\n",
    "n1.set_manual_category(col='Custome', preferred_cats=df_colors)\n",
    "n1.widget()"
   ]
  },
  {
   "cell_type": "markdown",
   "metadata": {},
   "source": [
    "# Visulize the gene (lncRNAs) Expression Data based on Z-score"
   ]
  },
  {
   "cell_type": "code",
   "execution_count": null,
   "metadata": {
    "scrolled": false
   },
   "outputs": [],
   "source": [
    "n2 = Network(CGM2)\n",
    "n2.load_df(df['expression'], meta_col=df['meta_data'], col_cats=col_cats)\n",
    "n2.set_global_cat_colors(df_colors)\n",
    "n2.filter_N_top(axis='row', N_top=num_rows, rank_type='var')\n",
    "n2.normalize(axis='row', norm_type='zscore', z_clip=5)\n",
    "n2.set_manual_category(col='Custome', preferred_cats=df_colors)\n",
    "n2.widget(link_net_js=n1)"
   ]
  }
 ],
 "metadata": {
  "kernelspec": {
   "display_name": "Python 3",
   "language": "python",
   "name": "python3"
  },
  "language_info": {
   "codemirror_mode": {
    "name": "ipython",
    "version": 3
   },
   "file_extension": ".py",
   "mimetype": "text/x-python",
   "name": "python",
   "nbconvert_exporter": "python",
   "pygments_lexer": "ipython3",
   "version": "3.8.3"
  }
 },
 "nbformat": 4,
 "nbformat_minor": 4
}
